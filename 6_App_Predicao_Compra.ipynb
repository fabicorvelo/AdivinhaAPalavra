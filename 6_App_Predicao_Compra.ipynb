{
  "nbformat": 4,
  "nbformat_minor": 0,
  "metadata": {
    "colab": {
      "provenance": [],
      "include_colab_link": true
    },
    "kernelspec": {
      "name": "python3",
      "display_name": "Python 3"
    },
    "language_info": {
      "name": "python"
    }
  },
  "cells": [
    {
      "cell_type": "markdown",
      "metadata": {
        "id": "view-in-github",
        "colab_type": "text"
      },
      "source": [
        "<a href=\"https://colab.research.google.com/github/fabicorvelo/AdivinhaAPalavra/blob/main/6_App_Predicao_Compra.ipynb\" target=\"_parent\"><img src=\"https://colab.research.google.com/assets/colab-badge.svg\" alt=\"Open In Colab\"/></a>"
      ]
    },
    {
      "cell_type": "code",
      "execution_count": null,
      "metadata": {
        "id": "MU5oi3ZSlo1B"
      },
      "outputs": [],
      "source": [
        "# Importando as Bibliotecas\n",
        "import numpy as np\n",
        "import matplotlib.pyplot as plt\n",
        "import pandas as pd\n",
        "import pickle\n",
        "import os"
      ]
    },
    {
      "cell_type": "code",
      "source": [
        "#Lendo o Modelo no Disco\n",
        "filename='/content/drive/MyDrive/dataset/classificador.sav'\n",
        "classifier = pickle.load(open(filename, 'rb'))"
      ],
      "metadata": {
        "id": "yCPM87ailuTT",
        "colab": {
          "base_uri": "https://localhost:8080/"
        },
        "outputId": "dd8a3493-6d91-4c03-8ccb-20049c4ad9d3"
      },
      "execution_count": null,
      "outputs": [
        {
          "output_type": "stream",
          "name": "stderr",
          "text": [
            "/usr/local/lib/python3.10/dist-packages/sklearn/base.py:318: UserWarning: Trying to unpickle estimator LogisticRegression from version 1.2.1 when using version 1.2.2. This might lead to breaking code or invalid results. Use at your own risk. For more info please refer to:\n",
            "https://scikit-learn.org/stable/model_persistence.html#security-maintainability-limitations\n",
            "  warnings.warn(\n"
          ]
        }
      ]
    },
    {
      "cell_type": "code",
      "source": [
        "X_teste = np.array([[40,20000]], np.int32)\n"
      ],
      "metadata": {
        "id": "RBD7QCdHl7PS"
      },
      "execution_count": null,
      "outputs": []
    },
    {
      "cell_type": "code",
      "source": [
        "# Feature Scaling\n",
        "from sklearn.preprocessing import StandardScaler\n",
        "sc_X = StandardScaler()\n",
        "X_train = sc_X.fit_transform(X_teste)"
      ],
      "metadata": {
        "id": "VSG12saYm76d"
      },
      "execution_count": null,
      "outputs": []
    },
    {
      "cell_type": "code",
      "source": [
        "idade = input(\"Informe a Idade: \")\n",
        "salario = input(\"Informe o salario estimado: \")\n",
        "\n",
        "New_X_test = [idade,salario]\n",
        "New_X_test[0] = float(str(New_X_test[0]))\n",
        "New_X_test[1] = float(str(New_X_test[1]))\n",
        "\n",
        "New_X_test= sc_X.transform(np.asarray(New_X_test).reshape(1, -1))\n",
        "\n",
        "y_pred = classifier.predict(New_X_test)\n",
        "print(y_pred)\n",
        "\n",
        "if y_pred == 0:\n",
        "   print(\"Nao Compraria\")\n",
        "\n",
        "if y_pred == 1:\n",
        "   print(\"Sim, Compraria\")"
      ],
      "metadata": {
        "id": "f6MP1P6Zm9vR",
        "colab": {
          "base_uri": "https://localhost:8080/"
        },
        "outputId": "ae1e5fbf-0aec-408f-f376-50c568808451"
      },
      "execution_count": null,
      "outputs": [
        {
          "output_type": "stream",
          "name": "stdout",
          "text": [
            "Informe a Idade: 30\n",
            "Informe o salario estimado: 100000\n",
            "[1]\n",
            "Sim, Compraria\n"
          ]
        }
      ]
    }
  ]
}